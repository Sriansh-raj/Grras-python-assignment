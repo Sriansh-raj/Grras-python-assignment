{
 "cells": [
  {
   "cell_type": "code",
   "execution_count": 4,
   "id": "fff588e1",
   "metadata": {},
   "outputs": [
    {
     "name": "stdout",
     "output_type": "stream",
     "text": [
      "Enter a number: -68\n",
      "-68 is negative\n"
     ]
    }
   ],
   "source": [
    "# Write a Python program to check whether a number is negative, positive or zero. \n",
    "x=int(input(\"Enter a number: \"))\n",
    "if x==0:\n",
    "    print (f\"{x} is zero.\")\n",
    "elif x<0:\n",
    "    print(f\"{x} is negative\")\n",
    "else:\n",
    "    print(f\"{x} is positive\")"
   ]
  },
  {
   "cell_type": "code",
   "execution_count": 7,
   "id": "4d79319a",
   "metadata": {},
   "outputs": [
    {
     "name": "stdout",
     "output_type": "stream",
     "text": [
      "Enter a number: 55\n",
      "55 is divisible by 5 and 11\n"
     ]
    }
   ],
   "source": [
    "# Write a Python program to check whether a number is divisible by 5 and 11 or not. \n",
    "num = int(input(\"Enter a number: \"))\n",
    "if (num%5 == 0)&(num%11 == 0):\n",
    "    print(f\"{num} is divisible by 5 and 11\")\n",
    "else:\n",
    "    print(f\"{num} is not divisible by 5 and 11\")"
   ]
  },
  {
   "cell_type": "code",
   "execution_count": 18,
   "id": "f1c31a2c",
   "metadata": {},
   "outputs": [
    {
     "name": "stdout",
     "output_type": "stream",
     "text": [
      "Enter a year: 2016\n",
      "2016 is a leap year\n"
     ]
    }
   ],
   "source": [
    "# Write a Python program to check whether a year is leap-year or not. \n",
    "year = int(input(\"Enter a year: \"))\n",
    "if ((year%4 == 0)and(year%100 != 0))or(year%400 == 0):\n",
    "    print(f\"{year} is a leap year\")\n",
    "else:\n",
    "    print(f\"{year} is not a leap year\")"
   ]
  },
  {
   "cell_type": "code",
   "execution_count": 21,
   "id": "f918bc35",
   "metadata": {},
   "outputs": [
    {
     "name": "stdout",
     "output_type": "stream",
     "text": [
      "Enter a Character: \n",
      "45r\n",
      "It is not an alphabet!\n"
     ]
    }
   ],
   "source": [
    "# Write a Python program to check whether a character is alphabet or not.\n",
    "print(\"Enter a Character: \")\n",
    "c = input()\n",
    "if c>='a' and c<='z':\n",
    "    print(\"It is an alphabet\")\n",
    "elif c>='A' and c<='z':\n",
    "    print(\"It is an alphabet\")\n",
    "else:\n",
    "    print(\"It is not an alphabet!\")"
   ]
  },
  {
   "cell_type": "code",
   "execution_count": 24,
   "id": "5a0ef700",
   "metadata": {},
   "outputs": [
    {
     "name": "stdout",
     "output_type": "stream",
     "text": [
      "Enter a character: u\n",
      "character is an vowel\n"
     ]
    }
   ],
   "source": [
    "# Write a Python program to input any alphabet and check whether it is vowel or consonant. \n",
    "ch=input(\"Enter a character: \")\n",
    "if ch in ('a','A','e','E','i','I','o','O','u','U'):\n",
    "    print(\"character is an vowel\")\n",
    "else:\n",
    "    print(\"character is an consonant\")"
   ]
  },
  {
   "cell_type": "code",
   "execution_count": 29,
   "id": "a8397af8",
   "metadata": {},
   "outputs": [
    {
     "name": "stdout",
     "output_type": "stream",
     "text": [
      "Enter a Character: \n",
      "69\n",
      "It is a digit\n"
     ]
    }
   ],
   "source": [
    "# Write a Python program to input any character and check whether it is alphabet, digit or special character. \n",
    "print(\"Enter a Character: \")\n",
    "c = input()\n",
    "if c>='a' and c<='z':\n",
    "    print(\"It is an alphabet\")\n",
    "elif c>='A' and c<='z':\n",
    "    print(\"It is an alphabet\")\n",
    "elif c>='0' and c<='9':\n",
    "    print(\"It is a digit\")\n",
    "else:\n",
    "    print(\"It is a special character.\")"
   ]
  },
  {
   "cell_type": "code",
   "execution_count": 33,
   "id": "1b7a9dc6",
   "metadata": {},
   "outputs": [
    {
     "name": "stdout",
     "output_type": "stream",
     "text": [
      "Enter a character: VS\n",
      "character is in uppercase\n"
     ]
    }
   ],
   "source": [
    "# Write a Python program to check whether a character is uppercase or lowercase alphabet. \n",
    "c = input(\"Enter a character: \")\n",
    "if c.islower():\n",
    "    print(\"character is in lowercase\")\n",
    "else:\n",
    "    print(\"character is in uppercase\")"
   ]
  },
  {
   "cell_type": "code",
   "execution_count": 36,
   "id": "5a918ff2",
   "metadata": {},
   "outputs": [
    {
     "name": "stdout",
     "output_type": "stream",
     "text": [
      "Enter week number: 5\n",
      "Friday\n"
     ]
    }
   ],
   "source": [
    "# Write a Python program to input week number and print weekday. \n",
    "x = int(input(\"Enter week number: \"))\n",
    "\n",
    "if x == 1:\n",
    "    print(\"Monday\")\n",
    "elif x == 2:\n",
    "    print(\"Tuesday\")\n",
    "elif x == 3:\n",
    "    print(\"Wednesday\")\n",
    "elif x == 4:\n",
    "    print(\"Thursday\")\n",
    "elif x == 5:\n",
    "    print(\"Friday\")\n",
    "elif x == 6:\n",
    "    print(\"Saturday\")\n",
    "elif x == 7:\n",
    "    print(\"Sunday\")\n",
    "else:\n",
    "    print(\"Invalid input\")"
   ]
  },
  {
   "cell_type": "code",
   "execution_count": 38,
   "id": "95e42b25",
   "metadata": {},
   "outputs": [
    {
     "name": "stdout",
     "output_type": "stream",
     "text": [
      "Enter angle 1: 90\n",
      "Enter angle 2: 45\n",
      "Enter angle 3: 45\n",
      "Triangle is valid\n"
     ]
    }
   ],
   "source": [
    "# Write a Python program to input angles of a triangle and check whether triangle is valid or not. \n",
    "angle1=int(input(\"Enter angle 1: \"))\n",
    "angle2=int(input(\"Enter angle 2: \"))\n",
    "angle3=int(input(\"Enter angle 3: \"))\n",
    "if angle1+angle2+angle3==180:\n",
    "    print(\"Triangle is valid\")\n",
    "else:\n",
    "    print(\"Not a valid triangle\")"
   ]
  },
  {
   "cell_type": "code",
   "execution_count": 39,
   "id": "ddb011c7",
   "metadata": {},
   "outputs": [
    {
     "name": "stdout",
     "output_type": "stream",
     "text": [
      "Enter side1: 56\n",
      "Enter side2: 78\n",
      "Enter side3: 89\n",
      "Scalene triangle\n"
     ]
    }
   ],
   "source": [
    "# Write a Python program to input all sides of a triangle and check whether triangle is valid or not. \n",
    "side1=int(input(\"Enter side1: \"))\n",
    "side2=int(input(\"Enter side2: \"))\n",
    "side3=int(input(\"Enter side3: \"))\n",
    "if side1==side2==side3:\n",
    "    print(\"Equilateral traingle\")\n",
    "elif side1==side2 or side2==side3 or side3==side1:\n",
    "    print(\"Isosceles triangle\")\n",
    "else:\n",
    "    print(\"Scalene triangle\")"
   ]
  },
  {
   "cell_type": "code",
   "execution_count": 43,
   "id": "286c18c7",
   "metadata": {},
   "outputs": [
    {
     "name": "stdout",
     "output_type": "stream",
     "text": [
      "Enter marks in Phy: 56\n",
      "Enter marks in Chem: 23\n",
      "Enter marks in Math: 90\n",
      "Enter marks in Bio: 78\n",
      "Enter marks in Comp: 67\n",
      "\n",
      "Percentage:  62.8\n",
      "Grade D\n"
     ]
    }
   ],
   "source": [
    "# Write a Python program to input marks of five subjects Physics, Chemistry, Biology, Mathematics and Computer. Calculate percentage and grade according to following:  \n",
    "    #Percentage >= 90%: Grade A \n",
    "    #Percentage >= 80%: Grade B\n",
    "    #Percentage >= 70%: Grade C  \n",
    "    #Percentage >= 60%: Grade D  \n",
    "    #Percentage >= 40%: Grade E \n",
    "    #Percentage < 40%: Grade F \n",
    "    \n",
    "markp = int(input(\"Enter marks in Phy: \"))\n",
    "markc = int(input(\"Enter marks in Chem: \"))\n",
    "markm = int(input(\"Enter marks in Math: \"))\n",
    "markb = int(input(\"Enter marks in Bio: \"))\n",
    "markcm = int(input(\"Enter marks in Comp: \"))\n",
    "sum = markp + markc + markm + markb + markcm\n",
    "percentage = sum/5\n",
    "print(\"\\nPercentage: \", percentage)\n",
    "if percentage>=90:\n",
    "    print(\"Grade A\")\n",
    "elif percentage>=80:\n",
    "    print(\"Grade B\")\n",
    "elif percentage>=70:\n",
    "    print(\"Grade C\")\n",
    "elif percentage>=60:\n",
    "    print(\"Grade D\")\n",
    "elif percentage>=50:\n",
    "    printf(\"Grade E\")\n",
    "else:\n",
    "    printf(\"Grade F\")"
   ]
  },
  {
   "cell_type": "code",
   "execution_count": 45,
   "id": "0159720d",
   "metadata": {},
   "outputs": [
    {
     "name": "stdout",
     "output_type": "stream",
     "text": [
      "Enter salary:78900\n",
      "Salary is: 177525.0\n"
     ]
    }
   ],
   "source": [
    "# Write a Python program to input basic salary of an employee and calculate its Gross salary according to following:  \n",
    "    # Basic Salary <= 10000: HRA = 20%, DA = 80%  \n",
    "    # Basic Salary <= 20000: HRA = 25%, DA = 90%  \n",
    "    # Basic Salary > 20000: HRA = 30%, DA = 95% \n",
    "    \n",
    "salary=float(input(\"Enter salary:\"))\n",
    "if salary<=10000:\n",
    "    hra=0.2*salary\n",
    "    da=0.8*salary\n",
    "elif salary<=20000:\n",
    "    hra=0.25*salary\n",
    "    da=0.9*salary\n",
    "else:\n",
    "    hra=0.3*salary\n",
    "    da=0.95*salary\n",
    "final_salary=salary+hra+da\n",
    "print(\"Salary is:\",final_salary)"
   ]
  },
  {
   "cell_type": "code",
   "execution_count": 53,
   "id": "20f579ba",
   "metadata": {},
   "outputs": [
    {
     "name": "stdout",
     "output_type": "stream",
     "text": [
      "Enter the number of electricity units consumed: 56700\n",
      "Total electricity bill: Rs. 101874.00\n"
     ]
    }
   ],
   "source": [
    "# Write a Python Program to input electricity unit charges and calculate total electricity bill according to the given condition:  \n",
    "    # For first 50 units Rs. 0.50/unit \n",
    "    # For next 100 units Rs. 0.75/unit \n",
    "    # For next 100 units Rs. 1.20/unit \n",
    "    # For unit above 250 Rs. 1.50/unit \n",
    "    # An additional surcharge of 20% is added to the bill\n",
    "    \n",
    "def calculate_electricity_bill(units):\n",
    "    total_bill = 0\n",
    "\n",
    "    \n",
    "    if units <= 50:\n",
    "        total_bill = units * 0.50\n",
    "    else:\n",
    "        total_bill += 50 * 0.50\n",
    "        units -= 50\n",
    "\n",
    "        \n",
    "        if units <= 100:\n",
    "            total_bill += units * 0.75\n",
    "        else:\n",
    "            total_bill += 100 * 0.75\n",
    "            units -= 100\n",
    "\n",
    "            \n",
    "            if units <= 100:\n",
    "                total_bill += units * 1.20\n",
    "            else:\n",
    "                total_bill += 100 * 1.20\n",
    "                units -= 100\n",
    "\n",
    "                \n",
    "                total_bill += units * 1.50\n",
    "    total_bill += total_bill * 0.20\n",
    "\n",
    "    return total_bill\n",
    "\n",
    "units = float(input(\"Enter the number of electricity units consumed: \"))\n",
    "bill = calculate_electricity_bill(units)\n",
    "print(f\"Total electricity bill: Rs. {bill:.2f}\")"
   ]
  }
 ],
 "metadata": {
  "kernelspec": {
   "display_name": "Python 3 (ipykernel)",
   "language": "python",
   "name": "python3"
  },
  "language_info": {
   "codemirror_mode": {
    "name": "ipython",
    "version": 3
   },
   "file_extension": ".py",
   "mimetype": "text/x-python",
   "name": "python",
   "nbconvert_exporter": "python",
   "pygments_lexer": "ipython3",
   "version": "3.10.9"
  }
 },
 "nbformat": 4,
 "nbformat_minor": 5
}
