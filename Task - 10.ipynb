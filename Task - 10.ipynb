{
 "cells": [
  {
   "cell_type": "code",
   "execution_count": 2,
   "id": "4442f74b",
   "metadata": {},
   "outputs": [
    {
     "name": "stdout",
     "output_type": "stream",
     "text": [
      "enter a number:56765\n",
      "number is an Palindrome no\n"
     ]
    }
   ],
   "source": [
    "num=int(input(\"enter a number:\"))\n",
    "temp=num\n",
    "rev=0\n",
    "while temp>0:\n",
    "    rem=temp%10\n",
    "    rev=rev*10+rem\n",
    "    temp=temp//10\n",
    "if num==rev:\n",
    "    print(\"number is an Palindrome no\")\n",
    "else:\n",
    "    print(\"number is not an Palindrome \")"
   ]
  },
  {
   "cell_type": "code",
   "execution_count": 3,
   "id": "298992b6",
   "metadata": {},
   "outputs": [
    {
     "name": "stdout",
     "output_type": "stream",
     "text": [
      "3*1=3\n",
      "3*2=6\n",
      "3*3=9\n",
      "3*4=12\n",
      "3*5=15\n",
      "3*6=18\n",
      "3*7=21\n",
      "3*8=24\n",
      "3*9=27\n",
      "3*10=30\n"
     ]
    }
   ],
   "source": [
    "no=3\n",
    "i=1\n",
    "while no<=5:\n",
    "    while i<=10:\n",
    "        print(f\"{no}*{i}={no*i}\")\n",
    "        i=i+1\n",
    "    no=no+2"
   ]
  },
  {
   "cell_type": "code",
   "execution_count": 4,
   "id": "c1d1abfe",
   "metadata": {},
   "outputs": [
    {
     "name": "stdout",
     "output_type": "stream",
     "text": [
      "enter an no which we want to find fact:7\n",
      "Factorial of a no is: 5040\n"
     ]
    }
   ],
   "source": [
    "no=int(input(\"enter an no which we want to find fact:\"))\n",
    "prd=1\n",
    "i=1\n",
    "while i<=no:\n",
    "    prd=prd*i\n",
    "    i=i+1\n",
    "print(\"Factorial of a no is:\",prd)"
   ]
  },
  {
   "cell_type": "code",
   "execution_count": 6,
   "id": "b612e489",
   "metadata": {},
   "outputs": [
    {
     "name": "stdout",
     "output_type": "stream",
     "text": [
      "enter the range we want to find factorial: 9\n",
      "0 1\n",
      "1\n",
      "2\n",
      "3\n",
      "5\n",
      "8\n",
      "13\n",
      "21\n"
     ]
    }
   ],
   "source": [
    "no=int(input(\"enter the range we want to find factorial: \"))\n",
    "n1=0\n",
    "n2=1\n",
    "print(n1,n2)\n",
    "i=2\n",
    "while i<no:\n",
    "    n3=n1+n2\n",
    "    print(n3)\n",
    "    n1=n2\n",
    "    n2=n3\n",
    "    i=i+1"
   ]
  },
  {
   "cell_type": "code",
   "execution_count": 7,
   "id": "ab1acfa9",
   "metadata": {},
   "outputs": [
    {
     "name": "stdout",
     "output_type": "stream",
     "text": [
      "Enter the no which we want to check: 371\n",
      "Armstrong no\n"
     ]
    }
   ],
   "source": [
    "num=int(input(\"Enter the no which we want to check: \"))\n",
    "temp=num\n",
    "sum=0\n",
    "while temp>0:\n",
    "    rem=temp%10\n",
    "    sum=sum+rem**3\n",
    "    temp=temp//10\n",
    "if num==sum:\n",
    "    print(\"Armstrong no\")\n",
    "else:    \n",
    "    print(\"not an armstrong\")"
   ]
  }
 ],
 "metadata": {
  "kernelspec": {
   "display_name": "Python 3 (ipykernel)",
   "language": "python",
   "name": "python3"
  },
  "language_info": {
   "codemirror_mode": {
    "name": "ipython",
    "version": 3
   },
   "file_extension": ".py",
   "mimetype": "text/x-python",
   "name": "python",
   "nbconvert_exporter": "python",
   "pygments_lexer": "ipython3",
   "version": "3.10.9"
  }
 },
 "nbformat": 4,
 "nbformat_minor": 5
}
