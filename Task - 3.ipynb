{
 "cells": [
  {
   "cell_type": "markdown",
   "id": "821a1677",
   "metadata": {},
   "source": [
    "### List some of data structures and their use in real world application:\n",
    "    Hash tables - used for fast data lookup\n",
    "    Arrays - used for storing list of data elements belonging to the same data type, auxiliary storage for other data structures, storage of binary tree elements of fixed count, storage of matrices\n",
    "    Binary tree - used for searching and sorting data\n",
    "    Linked list - used for implementing the hierarchical structures in computer systems like directory and file system, implementing the navigation structure of a website, code generation like Huffman’s code, decision making in gaming applications, implementation of priority queues for priority-based OS scheduling functions, parsing of expressions and statements in programming language compilers, for storing data keys for DBMS for indexing\n",
    "    Stacks - used for undo-redo operations, expression evaluation, function call management, backtracking\n",
    "    Queues - used for job scheduling, breadth-first search, simulation of real-world scenarios\n",
    "    Graphs - used for modeling relationships between objects, social networks, transportation networks, computer networks, and electrical circuits\n",
    "    Trees - used for hierarchical data representation, file systems, XML parsing, and Huffman coding\n",
    "    Matrices - used for representing real-world data like the population of people, infant mortality rate, etc. They are the best representation methods for plotting surveys.\n",
    "    Heaps - used for priority queue implementation, heap sort algorithm, and graph algorithms"
   ]
  },
  {
   "cell_type": "code",
   "execution_count": 11,
   "id": "422ef82d",
   "metadata": {},
   "outputs": [
    {
     "name": "stdout",
     "output_type": "stream",
     "text": [
      "<class 'list'>\n",
      "['Dev', 'Debneel', 'Dibyasai', 'tanmaya', 'shailesh', 'Renu']\n",
      "1\n",
      "['Debneel', 'Dev', 'Dibyasai', 'Renu', 'shailesh', 'tanmaya']\n",
      "Help on NoneType object:\n",
      "\n",
      "class NoneType(object)\n",
      " |  Methods defined here:\n",
      " |  \n",
      " |  __bool__(self, /)\n",
      " |      True if self else False\n",
      " |  \n",
      " |  __repr__(self, /)\n",
      " |      Return repr(self).\n",
      " |  \n",
      " |  ----------------------------------------------------------------------\n",
      " |  Static methods defined here:\n",
      " |  \n",
      " |  __new__(*args, **kwargs) from builtins.type\n",
      " |      Create and return a new object.  See help(type) for accurate signature.\n",
      "\n"
     ]
    }
   ],
   "source": [
    "ls = [\"Dev\", \"Debneel\", \"Dibyasai\", \"tanmaya\", \"shailesh\"]\n",
    "print(type(ls))\n",
    "ls.append(\"Renu\")\n",
    "print(ls)\n",
    "cnt = ls.count(\"Dev\")\n",
    "print(cnt)\n",
    "ls.sort()\n",
    "print(ls)\n",
    "help(ls.sort())"
   ]
  },
  {
   "cell_type": "code",
   "execution_count": 15,
   "id": "7eb4917e",
   "metadata": {},
   "outputs": [
    {
     "name": "stdout",
     "output_type": "stream",
     "text": [
      "100 =  <class 'int'>\n",
      "105.5 =  <class 'float'>\n",
      "192.56j =  <class 'complex'>\n",
      "(10+6j) =  <class 'complex'>\n",
      "10 =  <class 'str'>\n",
      "[10, 20, 50, 100] =  <class 'list'>\n",
      "{'name': 'sachin', 'age': 24, 'language': 'python'} =  <class 'dict'>\n"
     ]
    }
   ],
   "source": [
    "a = 100 \n",
    "\n",
    "b = 105.5 \n",
    "\n",
    "c = 192.56j \n",
    "\n",
    "d = 10+6j  \n",
    "\n",
    "e = '10' \n",
    "\n",
    "# f = 'Hello world'5   #Syntax Error\n",
    "\n",
    "g = [ 10, 20, 50, 100] \n",
    "\n",
    "h = {'name': 'sachin', 'age': 24, 'language': 'python'}\n",
    "print(f\"{a} = \", type(a))\n",
    "print(f\"{b} = \", type(b))\n",
    "print(f\"{c} = \", type(c))\n",
    "print(f\"{d} = \", type(d))\n",
    "print(f\"{e} = \", type(e))\n",
    "print(f\"{g} = \", type(g))\n",
    "print(f\"{h} = \", type(h))"
   ]
  }
 ],
 "metadata": {
  "kernelspec": {
   "display_name": "Python 3 (ipykernel)",
   "language": "python",
   "name": "python3"
  },
  "language_info": {
   "codemirror_mode": {
    "name": "ipython",
    "version": 3
   },
   "file_extension": ".py",
   "mimetype": "text/x-python",
   "name": "python",
   "nbconvert_exporter": "python",
   "pygments_lexer": "ipython3",
   "version": "3.10.9"
  }
 },
 "nbformat": 4,
 "nbformat_minor": 5
}
