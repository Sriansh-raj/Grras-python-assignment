{
 "cells": [
  {
   "cell_type": "markdown",
   "id": "013a3b04",
   "metadata": {},
   "source": [
    "<h1 style=\"color:red;\">Guess Game</h1>"
   ]
  },
  {
   "cell_type": "code",
   "execution_count": 27,
   "id": "a4b17c83",
   "metadata": {},
   "outputs": [
    {
     "name": "stdout",
     "output_type": "stream",
     "text": [
      "Guess the number: 34\n",
      "Hint: Think a higher number.\n",
      "Your remaining chances -->  4\n",
      "\n",
      "Guess the number: 78\n",
      "Warning: Think in Limits 1-50 only!\n",
      "\n",
      "Guess the number: 13\n",
      "Hint: Think a higher number.\n",
      "Your remaining chances -->  3\n",
      "\n",
      "Guess the number: -13\n",
      "Warning: Think in Limits 1-50 only!\n",
      "\n",
      "Guess the number: 29\n",
      "Hint: Think a higher number.\n",
      "Your remaining chances -->  2\n",
      "\n",
      "Guess the number: 41\n",
      "Hint: Think a lower number.\n",
      "Your remaining chances -->  1\n",
      "\n",
      "Guess the number: 17\n",
      "Hint: Think a higher number.\n",
      "Your remaining chances -->  0\n",
      "\n",
      "Oops! You ran out of chances.\n"
     ]
    }
   ],
   "source": [
    "import random\n",
    "num = random.randint(1, 50)\n",
    "flag = 0\n",
    "chance = 4\n",
    "while(chance != -1):\n",
    "    x = int(input(\"Guess the number: \"))\n",
    "    if ((x >= 0) and (x <= 50)):\n",
    "        if x == num:\n",
    "            print(\"Congrats! You guessed correct\")\n",
    "            break\n",
    "        elif x > num:\n",
    "            print(\"Hint: Think a lower number.\")\n",
    "        elif x < num:\n",
    "            print(\"Hint: Think a higher number.\")\n",
    "    else:\n",
    "        print(\"Warning: Think in Limits 1-50 only!\\n\")\n",
    "        continue\n",
    "    print(\"Your remaining chances --> \", chance)\n",
    "    print()\n",
    "    chance -= 1\n",
    "    flag += 1\n",
    "    \n",
    "if(flag == 5):\n",
    "    print(\"Oops! You ran out of chances.\")"
   ]
  }
 ],
 "metadata": {
  "kernelspec": {
   "display_name": "Python 3 (ipykernel)",
   "language": "python",
   "name": "python3"
  },
  "language_info": {
   "codemirror_mode": {
    "name": "ipython",
    "version": 3
   },
   "file_extension": ".py",
   "mimetype": "text/x-python",
   "name": "python",
   "nbconvert_exporter": "python",
   "pygments_lexer": "ipython3",
   "version": "3.10.9"
  }
 },
 "nbformat": 4,
 "nbformat_minor": 5
}
