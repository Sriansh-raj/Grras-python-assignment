{
 "cells": [
  {
   "cell_type": "markdown",
   "id": "0ae9ef83",
   "metadata": {},
   "source": [
    "shallow copy store the refernce of other object if we make change in that object previous object is also changed deep copy store copies of the object value if we change in any object it doesnot affect other object"
   ]
  },
  {
   "cell_type": "code",
   "execution_count": 1,
   "id": "4043e10e",
   "metadata": {},
   "outputs": [
    {
     "name": "stdout",
     "output_type": "stream",
     "text": [
      "[{'title': 'Python Course', 'author': 'Drew Matthes', 'ISBN': '978-1593123447'}, {'title': 'The Optimist', 'author': 'Simon Drea', 'ISBN': '978-987654345699'}, {'title': 'A Mockingbird', 'author': 'Blisk Louis', 'ISBN': '978-0446310789'}]\n",
      "[{'name': 'Dev Anand', 'student_id': '6748'}, {'name': 'Sriram Bakxi', 'student_id': '8765'}, {'name': 'Janata Mahtre', 'student_id': '2378'}]\n",
      "[{'book': 'Python Course', 'student': 'Dev Anand', 'date': '2023-06-01'}, {'book': 'A Mockingbird', 'student': 'Sriram Bakxi', 'date': '2023-06-03'}, {'book': 'The Optimist', 'student': 'Janata Mahtre', 'date': '2023-06-05'}]\n"
     ]
    }
   ],
   "source": [
    "books = [\n",
    "    {'title': 'Python Course', 'author': 'Drew Matthes', 'ISBN': '978-1593123447'},\n",
    "    {'title': 'The Optimist', 'author': 'Simon Drea', 'ISBN': '978-987654345699'},\n",
    "    {'title': 'A Mockingbird', 'author': 'Blisk Louis', 'ISBN': '978-0446310789'},\n",
    "   \n",
    "]\n",
    "students = [\n",
    "    {'name': 'Dev Anand', 'student_id': '6748'},\n",
    "    {'name': 'Sriram Bakxi', 'student_id': '8765'},\n",
    "    {'name': 'Janata Mahtre', 'student_id': '2378'},\n",
    "    \n",
    "]\n",
    "transactions = [\n",
    "    {'book': 'Python Course', 'student': 'Dev Anand', 'date': '2023-06-01'},\n",
    "    {'book': 'A Mockingbird', 'student': 'Sriram Bakxi', 'date': '2023-06-03'},\n",
    "    {'book': 'The Optimist', 'student': 'Janata Mahtre', 'date': '2023-06-05'},\n",
    "    \n",
    "]\n",
    "print(books)\n",
    "print(students)\n",
    "print(transactions)"
   ]
  },
  {
   "cell_type": "markdown",
   "id": "5e690390",
   "metadata": {},
   "source": [
    "Automic data type:they are of four type 1.boolean 2.integers 3.char 4.floats\n",
    "\n",
    "Secondary data type are those data type which can be divided into sub-data typein other word these data type are created by the combination pf primitive data type"
   ]
  }
 ],
 "metadata": {
  "kernelspec": {
   "display_name": "Python 3 (ipykernel)",
   "language": "python",
   "name": "python3"
  },
  "language_info": {
   "codemirror_mode": {
    "name": "ipython",
    "version": 3
   },
   "file_extension": ".py",
   "mimetype": "text/x-python",
   "name": "python",
   "nbconvert_exporter": "python",
   "pygments_lexer": "ipython3",
   "version": "3.10.9"
  }
 },
 "nbformat": 4,
 "nbformat_minor": 5
}
