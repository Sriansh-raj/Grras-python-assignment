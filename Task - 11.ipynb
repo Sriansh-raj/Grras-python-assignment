{
 "cells": [
  {
   "cell_type": "markdown",
   "id": "0d22a0a1",
   "metadata": {},
   "source": [
    "# Patterns Printing"
   ]
  },
  {
   "cell_type": "code",
   "execution_count": 15,
   "id": "eb918f65",
   "metadata": {},
   "outputs": [
    {
     "name": "stdout",
     "output_type": "stream",
     "text": [
      "* \r\n",
      "* * \r\n",
      "* * * \r\n",
      "* * * * \r\n",
      "* * * * * \r\n"
     ]
    }
   ],
   "source": [
    "for x in range (1, 6):\n",
    "    for y in range (1, x+1):\n",
    "        print(\"*\", end = \" \")\n",
    "    print()"
   ]
  },
  {
   "cell_type": "code",
   "execution_count": 16,
   "id": "af56949c",
   "metadata": {},
   "outputs": [
    {
     "name": "stdout",
     "output_type": "stream",
     "text": [
      "1 \r\n",
      "2 2 \r\n",
      "3 3 3 \r\n",
      "4 4 4 4 \r\n",
      "5 5 5 5 5 \r\n"
     ]
    }
   ],
   "source": [
    "for x in range (1, 6):\n",
    "    for y in range (1, x+1):\n",
    "        print(x, end = \" \")\n",
    "    print(\"\\r\")"
   ]
  },
  {
   "cell_type": "code",
   "execution_count": 17,
   "id": "08233366",
   "metadata": {},
   "outputs": [
    {
     "name": "stdout",
     "output_type": "stream",
     "text": [
      "1 \r\n",
      "1 2 \r\n",
      "1 2 3 \r\n",
      "1 2 3 4 \r\n",
      "1 2 3 4 5 \r\n"
     ]
    }
   ],
   "source": [
    "for x in range (1, 6):\n",
    "    for y in range (1, x+1):\n",
    "        print(y, end = \" \")\n",
    "    print(\"\\r\")"
   ]
  },
  {
   "cell_type": "code",
   "execution_count": 21,
   "id": "8e9bc7e2",
   "metadata": {},
   "outputs": [
    {
     "name": "stdout",
     "output_type": "stream",
     "text": [
      "2 \n",
      "3 4 \n",
      "4 5 6 \n",
      "5 6 7 8 \n",
      "6 7 8 9 10 \n"
     ]
    }
   ],
   "source": [
    "for x in range (1, 6):\n",
    "    for y in range (1, x+1):\n",
    "        print(y + x, end = \" \")\n",
    "    print()"
   ]
  },
  {
   "cell_type": "code",
   "execution_count": 23,
   "id": "a4323590",
   "metadata": {},
   "outputs": [
    {
     "name": "stdout",
     "output_type": "stream",
     "text": [
      "1\n",
      "01\n",
      "101\n",
      "0101\n",
      "10101\n"
     ]
    }
   ],
   "source": [
    "for x in range (1, 6):\n",
    "    for y in range (1, x+1):\n",
    "        if (x+y)%2==0:\n",
    "            print(1,end='')\n",
    "        else:\n",
    "            print(0,end='')\n",
    "    print()"
   ]
  },
  {
   "cell_type": "code",
   "execution_count": 26,
   "id": "acf87ee3",
   "metadata": {},
   "outputs": [
    {
     "name": "stdout",
     "output_type": "stream",
     "text": [
      "1 \n",
      "2 3 \n",
      "4 5 6 \n",
      "7 8 9 10 \n",
      "11 12 13 14 15 \n"
     ]
    }
   ],
   "source": [
    "z = 1\n",
    "for x in range (1, 6):\n",
    "    for y in range (1, x+1):\n",
    "        print(z, end = \" \")\n",
    "        z += 1\n",
    "    print()"
   ]
  },
  {
   "cell_type": "code",
   "execution_count": 28,
   "id": "4e0091ab",
   "metadata": {},
   "outputs": [
    {
     "name": "stdout",
     "output_type": "stream",
     "text": [
      "5 \n",
      "5 4 \n",
      "5 4 3 \n",
      "5 4 3 2 \n",
      "5 4 3 2 1 \n"
     ]
    }
   ],
   "source": [
    "for x in range (1, 6):\n",
    "    z = 5\n",
    "    for y in range (1, x+1):\n",
    "        print(z, end = \" \")\n",
    "        z -= 1\n",
    "    print()"
   ]
  },
  {
   "cell_type": "code",
   "execution_count": 30,
   "id": "ed12b1d9",
   "metadata": {},
   "outputs": [
    {
     "name": "stdout",
     "output_type": "stream",
     "text": [
      "5 \n",
      "4 4 \n",
      "3 3 3 \n",
      "2 2 2 2 \n",
      "1 1 1 1 1 \n"
     ]
    }
   ],
   "source": [
    "z = 5\n",
    "for x in range (1, 6):\n",
    "    for y in range (1, x+1):\n",
    "        print(z, end = \" \")\n",
    "    print()\n",
    "    z -= 1"
   ]
  },
  {
   "cell_type": "code",
   "execution_count": 38,
   "id": "77fbdc96",
   "metadata": {},
   "outputs": [
    {
     "name": "stdout",
     "output_type": "stream",
     "text": [
      "* * * * * * \r\n",
      "* * * * * \r\n",
      "* * * * \r\n",
      "* * * \r\n",
      "* * \r\n",
      "* \r\n"
     ]
    }
   ],
   "source": [
    "for x in range (6, 0, -1):\n",
    "    for y in range (1, x+1):\n",
    "        print(\"*\", end = \" \")\n",
    "    print(\"\\r\")"
   ]
  },
  {
   "cell_type": "code",
   "execution_count": 39,
   "id": "dd7cec9b",
   "metadata": {},
   "outputs": [
    {
     "name": "stdout",
     "output_type": "stream",
     "text": [
      "1 1 1 1 1 \r\n",
      "2 2 2 2 \r\n",
      "3 3 3 \r\n",
      "2 2 \r\n",
      "1 \r\n"
     ]
    }
   ],
   "source": [
    "for x in range(5,2,-1):\n",
    "    z=5-x+1\n",
    "    for y in range(x):\n",
    "        print(z, end=\" \") \n",
    "    print(\"\\r\") \n",
    "for x in range(2,0,-1):\n",
    "    for y in range(x):\n",
    "        print(x, end=\" \") \n",
    "    print(\"\\r\") "
   ]
  },
  {
   "cell_type": "code",
   "execution_count": 40,
   "id": "486334b3",
   "metadata": {},
   "outputs": [
    {
     "name": "stdout",
     "output_type": "stream",
     "text": [
      "1 2 3 4 5 \r\n",
      "1 2 3 4 \r\n",
      "1 2 3 \r\n",
      "1 2 \r\n",
      "1 \r\n"
     ]
    }
   ],
   "source": [
    "for x in range(5,0,-1):\n",
    "    z=1\n",
    "    for y in range(1,x+1):\n",
    "        print(z, end=\" \")\n",
    "        z=z+1\n",
    "    print(\"\\r\") "
   ]
  },
  {
   "cell_type": "code",
   "execution_count": 41,
   "id": "7498d3e9",
   "metadata": {},
   "outputs": [
    {
     "name": "stdout",
     "output_type": "stream",
     "text": [
      "5 5 5 5 5 \r\n",
      "4 4 4 4 \r\n",
      "3 3 3 \r\n",
      "2 2 \r\n",
      "1 \r\n"
     ]
    }
   ],
   "source": [
    "i=0\n",
    "for x in range(5,0,-1):\n",
    "    for y in range(1,x+1):\n",
    "        print(x, end=\" \") \n",
    "    i=i+1    \n",
    "    print(\"\\r\") "
   ]
  },
  {
   "cell_type": "code",
   "execution_count": 42,
   "id": "045f14e1",
   "metadata": {},
   "outputs": [
    {
     "name": "stdout",
     "output_type": "stream",
     "text": [
      "5 4 3 2 1 \r\n",
      "5 4 3 2 \r\n",
      "5 4 3 \r\n",
      "5 4 \r\n",
      "5 \r\n"
     ]
    }
   ],
   "source": [
    "for x in range(5,0,-1):\n",
    "    z=5\n",
    "    for y in range(1,x+1):\n",
    "        print(z, end=\" \")\n",
    "        z=z-1\n",
    "    print(\"\\r\") "
   ]
  },
  {
   "cell_type": "code",
   "execution_count": 55,
   "id": "18bd645d",
   "metadata": {},
   "outputs": [
    {
     "name": "stdout",
     "output_type": "stream",
     "text": [
      "    *    \n",
      "   ***   \n",
      "  *****  \n",
      " ******* \n",
      "*********\n"
     ]
    }
   ],
   "source": [
    "i=1\n",
    "while i<=10:\n",
    "    s=\"*\"*i\n",
    "    print(s.center(9))\n",
    "    i=i+2"
   ]
  },
  {
   "cell_type": "code",
   "execution_count": 54,
   "id": "ccd796d4",
   "metadata": {},
   "outputs": [
    {
     "name": "stdout",
     "output_type": "stream",
     "text": [
      "    1    \n",
      "   222   \n",
      "  33333  \n",
      " 4444444 \n",
      "555555555\n"
     ]
    }
   ],
   "source": [
    "i=1\n",
    "z = 1\n",
    "while i<=10:\n",
    "    s=str(z)*i\n",
    "    z = z+1\n",
    "    print(s.center(9))\n",
    "    i=i+2"
   ]
  },
  {
   "cell_type": "code",
   "execution_count": 53,
   "id": "fe518756",
   "metadata": {},
   "outputs": [
    {
     "name": "stdout",
     "output_type": "stream",
     "text": [
      "    1\n",
      "   123\n",
      "  12345\n",
      " 1234567\n",
      "123456789\n"
     ]
    }
   ],
   "source": [
    "for x in range(5):\n",
    "    for y in range (0, 5-1-x):\n",
    "        print(\" \", end=\"\")\n",
    "    for y in range (1, (2*x+1)+1):\n",
    "        print(y, end=\"\")\n",
    "    print()"
   ]
  },
  {
   "cell_type": "code",
   "execution_count": 59,
   "id": "60ce6646",
   "metadata": {},
   "outputs": [
    {
     "name": "stdout",
     "output_type": "stream",
     "text": [
      "         *          \n",
      "       * * *        \n",
      "     * * * * *      \n",
      "   * * * * * * *    \n",
      " * * * * * * * * *  \n"
     ]
    }
   ],
   "source": [
    "for i in range(1,6):\n",
    "    s=''\n",
    "    for j in range(1,2*i):\n",
    "        s=s+'* '\n",
    "    print(s.center(20))"
   ]
  },
  {
   "cell_type": "code",
   "execution_count": 2,
   "id": "8078a5fe",
   "metadata": {},
   "outputs": [
    {
     "name": "stdout",
     "output_type": "stream",
     "text": [
      "    1     \n",
      "   232    \n",
      "  34543   \n",
      " 4567654  \n",
      "567898765 \n"
     ]
    }
   ],
   "source": [
    "n=0\n",
    "for i in range(1,6):\n",
    "    st=''\n",
    "    for j in range(1,2*i):\n",
    "        if j<=i:\n",
    "            n+=1\n",
    "        else:\n",
    "            n-=1\n",
    "        st+=str(n)\n",
    "    print(st.center(10))"
   ]
  },
  {
   "cell_type": "code",
   "execution_count": 3,
   "id": "0f518bb8",
   "metadata": {},
   "outputs": [
    {
     "name": "stdout",
     "output_type": "stream",
     "text": [
      "*********\n",
      " *******\n",
      "  *****\n",
      "   ***\n",
      "    *\n"
     ]
    }
   ],
   "source": [
    "n=6\n",
    "for i in range(n-1, 0, -1):\n",
    "    for j in range (0, n-(i+1)):\n",
    "        print(\" \", end=\"\")\n",
    "    for j in range (0, (2*i)-1):\n",
    "        print(\"*\", end=\"\")\n",
    "    print(\"\")"
   ]
  },
  {
   "cell_type": "code",
   "execution_count": 4,
   "id": "3f163227",
   "metadata": {},
   "outputs": [
    {
     "name": "stdout",
     "output_type": "stream",
     "text": [
      "567898765 \n",
      " 5678765  \n",
      "  56765   \n",
      "   565    \n",
      "    5     \n"
     ]
    }
   ],
   "source": [
    "for i in range(5,0,-1):\n",
    "    n=4\n",
    "    st=\"\"\n",
    "    for j in range(2*i, 1, -1):\n",
    "        if j<=i:\n",
    "            n=n-1\n",
    "        else:\n",
    "            n=n+1\n",
    "        st=st+str(n)\n",
    "    print(st.center(10))\n",
    "    n-=1"
   ]
  },
  {
   "cell_type": "code",
   "execution_count": 6,
   "id": "6c76e03c",
   "metadata": {},
   "outputs": [
    {
     "name": "stdout",
     "output_type": "stream",
     "text": [
      "Enter the number of rows: 5\n",
      "    *\n",
      "   ***\n",
      "  *****\n",
      " *******\n",
      "*********\n",
      " *******\n",
      "  *****\n",
      "   ***\n",
      "    *\n"
     ]
    }
   ],
   "source": [
    "n=int(input(\"Enter the number of rows: \"))\n",
    "for i in range(n):\n",
    "    for j in range (0, n-1-i):\n",
    "        print(\" \", end=\"\")\n",
    "    for j in range (0, 2*i+1):\n",
    "        print(\"*\", end=\"\")\n",
    "    print(\"\")\n",
    "for i in range(n-1, 0, -1):\n",
    "    for j in range (0, n-(i+1)+1):\n",
    "        print(\" \", end=\"\")\n",
    "    for j in range (0, (2*i)-1):\n",
    "        print(\"*\", end=\"\")\n",
    "    print(\"\")"
   ]
  },
  {
   "cell_type": "code",
   "execution_count": 7,
   "id": "c824d65f",
   "metadata": {},
   "outputs": [
    {
     "name": "stdout",
     "output_type": "stream",
     "text": [
      "Enter the number of rows for the square: 6\n",
      "******\n",
      "******\n",
      "******\n",
      "******\n",
      "******\n",
      "******\n"
     ]
    }
   ],
   "source": [
    "n=int(input(\"Enter the number of rows for the square: \"))\n",
    "for i in range(n):\n",
    "    print(\"*\"*n)"
   ]
  },
  {
   "cell_type": "code",
   "execution_count": 8,
   "id": "6cd949ee",
   "metadata": {},
   "outputs": [
    {
     "name": "stdout",
     "output_type": "stream",
     "text": [
      "Enter the number of rows for the square: 5\n",
      "*****\n",
      "*   *\n",
      "*   *\n",
      "*   *\n",
      "*****\n"
     ]
    }
   ],
   "source": [
    "n=int(input(\"Enter the number of rows for the square: \"))\n",
    "for i in range(0, n):\n",
    "    if i==0 or i==n-1:\n",
    "        print(\"*\"*n)\n",
    "    else:\n",
    "        print(\"*\", end=\"\")\n",
    "        for j in range(0, n-2):\n",
    "            print(\" \", end=\"\")\n",
    "        print(\"*\")"
   ]
  },
  {
   "cell_type": "code",
   "execution_count": 9,
   "id": "b62be7f4",
   "metadata": {},
   "outputs": [
    {
     "name": "stdout",
     "output_type": "stream",
     "text": [
      "---------------.|.---------------\n",
      "------------.|..|..|.------------\n",
      "---------.|..|..|..|..|.---------\n",
      "------.|..|..|..|..|..|..|.------\n",
      "---.|..|..|..|..|..|..|..|..|.---\n",
      "-------------WELCOME-------------\n",
      "---.|..|..|..|..|..|..|..|..|.---\n",
      "------.|..|..|..|..|..|..|.------\n",
      "---------.|..|..|..|..|.---------\n",
      "------------.|..|..|.------------\n",
      "---------------.|.---------------\n"
     ]
    }
   ],
   "source": [
    "i = 1\n",
    "while i<=10:\n",
    "    s=\".|.\"*i\n",
    "    print(s.center(33,\"-\"))\n",
    "    i += 2\n",
    "u=\"WELCOME\"\n",
    "print(u.center(33,\"-\"))\n",
    "j = 9\n",
    "while j>=1:\n",
    "  t=\".|.\"*j\n",
    "  print(t.center(33,\"-\"))\n",
    "  j -= 2"
   ]
  },
  {
   "cell_type": "code",
   "execution_count": 14,
   "id": "1e96f839",
   "metadata": {},
   "outputs": [
    {
     "name": "stdout",
     "output_type": "stream",
     "text": [
      "------------------j------------------\n",
      "----------------j-i-j----------------\n",
      "--------------j-i-h-i-j--------------\n",
      "------------j-i-h-g-h-i-j------------\n",
      "----------j-i-h-g-f-g-h-i-j----------\n",
      "--------j-i-h-g-f-e-f-g-h-i-j--------\n",
      "------j-i-h-g-f-e-d-e-f-g-h-i-j------\n",
      "----j-i-h-g-f-e-d-c-d-e-f-g-h-i-j----\n",
      "--j-i-h-g-f-e-d-c-b-c-d-e-f-g-h-i-j--\n",
      "j-i-h-g-f-e-d-c-b-a-b-c-d-e-f-g-h-i-j\n",
      "--j-i-h-g-f-e-d-c-b-c-d-e-f-g-h-i-j--\n",
      "----j-i-h-g-f-e-d-c-d-e-f-g-h-i-j----\n",
      "------j-i-h-g-f-e-d-e-f-g-h-i-j------\n",
      "--------j-i-h-g-f-e-f-g-h-i-j--------\n",
      "----------j-i-h-g-f-g-h-i-j----------\n",
      "------------j-i-h-g-h-i-j------------\n",
      "--------------j-i-h-i-j--------------\n",
      "----------------j-i-j----------------\n",
      "------------------j------------------\n"
     ]
    }
   ],
   "source": [
    "for i in range(1,10+1):\n",
    "    l=[]\n",
    "    n=97+10\n",
    "    for j in range(1,2*i):\n",
    "        if j<=i:\n",
    "            n-=1\n",
    "        else:\n",
    "            n+=1\n",
    "        l.append(chr(n))\n",
    "    st='-'.join(l)\n",
    "    print(st.center(37,'-'))\n",
    "for i in range(10-1,0,-1):\n",
    "    l=[]\n",
    "    n=97+10\n",
    "    for j in range(1,2*i):\n",
    "        if j<=i:\n",
    "            n=n-1\n",
    "        else:\n",
    "            n=n+1\n",
    "        l.append(chr(n))\n",
    "    st='-'.join(l)\n",
    "    print(st.center(37,'-'))"
   ]
  }
 ],
 "metadata": {
  "kernelspec": {
   "display_name": "Python 3 (ipykernel)",
   "language": "python",
   "name": "python3"
  },
  "language_info": {
   "codemirror_mode": {
    "name": "ipython",
    "version": 3
   },
   "file_extension": ".py",
   "mimetype": "text/x-python",
   "name": "python",
   "nbconvert_exporter": "python",
   "pygments_lexer": "ipython3",
   "version": "3.10.9"
  }
 },
 "nbformat": 4,
 "nbformat_minor": 5
}
