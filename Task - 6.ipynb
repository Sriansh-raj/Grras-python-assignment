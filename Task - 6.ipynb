{
 "cells": [
  {
   "cell_type": "markdown",
   "id": "f1b235d0",
   "metadata": {},
   "source": [
    "### What is duck typing in python?\n",
    "    Python is a Duck typing language which means that the data type of any variable is less important than its methods and attributes. It basically suggests that the data type of the variable can change according to its behaviour as long as the code is sustainable."
   ]
  },
  {
   "cell_type": "markdown",
   "id": "91569587",
   "metadata": {},
   "source": [
    "### What are operators? How many types of operators are there in python?\n",
    "    Operators are symbols or special keywords which are used to perform certain tasks to produce a result. A few types of operators are as follows:\n",
    "\n",
    "    Arithmetic operators\n",
    "    Assignment operators\n",
    "    Comparison operators\n",
    "    Logical operators\n",
    "    Identity operators\n",
    "    Membership operators\n",
    "    Bitwise operators"
   ]
  }
 ],
 "metadata": {
  "kernelspec": {
   "display_name": "Python 3 (ipykernel)",
   "language": "python",
   "name": "python3"
  },
  "language_info": {
   "codemirror_mode": {
    "name": "ipython",
    "version": 3
   },
   "file_extension": ".py",
   "mimetype": "text/x-python",
   "name": "python",
   "nbconvert_exporter": "python",
   "pygments_lexer": "ipython3",
   "version": "3.10.9"
  }
 },
 "nbformat": 4,
 "nbformat_minor": 5
}
