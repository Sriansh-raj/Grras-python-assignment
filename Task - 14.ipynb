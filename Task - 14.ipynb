{
 "cells": [
  {
   "cell_type": "code",
   "execution_count": 4,
   "id": "4ec4c4ca",
   "metadata": {},
   "outputs": [
    {
     "name": "stdout",
     "output_type": "stream",
     "text": [
      "Enter a number: 678\n",
      "The sum of a number until the sum is reduced to 1 digit -->  21\n"
     ]
    }
   ],
   "source": [
    "num = int(input(\"Enter a number: \"))\n",
    "temp= num\n",
    "sum = 0\n",
    "while temp >= 10:\n",
    "    while temp > 0:\n",
    "        rem = temp % 10\n",
    "        sum = sum + rem\n",
    "        temp= temp // 10\n",
    "print(\"The sum of a number until the sum is reduced to 1 digit --> \",sum)"
   ]
  },
  {
   "cell_type": "code",
   "execution_count": 6,
   "id": "d01b8a34",
   "metadata": {},
   "outputs": [
    {
     "name": "stdout",
     "output_type": "stream",
     "text": [
      "Enter a number upto which we want to find the cube: 17\n",
      "For 3: 27\n",
      "For 6: 216\n",
      "For 9: 729\n",
      "For 12: 1728\n",
      "For 15: 3375\n"
     ]
    }
   ],
   "source": [
    "num=int(input(\"Enter a number upto which we want to find the cube: \"))\n",
    "i=1\n",
    "while i<=num:\n",
    "    if i%3==0:\n",
    "        print(f\"For {i}: {i**3}\")\n",
    "    i=i+1"
   ]
  },
  {
   "cell_type": "code",
   "execution_count": 22,
   "id": "7447eeba",
   "metadata": {},
   "outputs": [
    {
     "name": "stdout",
     "output_type": "stream",
     "text": [
      "Enter a no: 5679\n",
      "The no of digit is: 4\n"
     ]
    }
   ],
   "source": [
    "num = int(input(\"Enter a no: \"))\n",
    "count = 0\n",
    "while num != 0:\n",
    "    rem = num % 10\n",
    "    count += 1\n",
    "    num = num // 10\n",
    "print(\"The no of digit is:\", count)"
   ]
  }
 ],
 "metadata": {
  "kernelspec": {
   "display_name": "Python 3 (ipykernel)",
   "language": "python",
   "name": "python3"
  },
  "language_info": {
   "codemirror_mode": {
    "name": "ipython",
    "version": 3
   },
   "file_extension": ".py",
   "mimetype": "text/x-python",
   "name": "python",
   "nbconvert_exporter": "python",
   "pygments_lexer": "ipython3",
   "version": "3.10.9"
  }
 },
 "nbformat": 4,
 "nbformat_minor": 5
}
