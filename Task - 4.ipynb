{
 "cells": [
  {
   "cell_type": "code",
   "execution_count": 14,
   "id": "2c43c4bd",
   "metadata": {},
   "outputs": [
    {
     "name": "stdout",
     "output_type": "stream",
     "text": [
      "Hello World\n",
      "['Hello', 'python']\n",
      "Hello python\n",
      "             Hello python             \n",
      "Hello Python\n"
     ]
    }
   ],
   "source": [
    "str = \"Hello python\"\n",
    "rp = str.replace(\"python\", \"World\")\n",
    "sp = str.split()\n",
    "st = str.strip()\n",
    "cn = str.center(38)\n",
    "tl = str.title()\n",
    "print(rp)\n",
    "print(sp)\n",
    "print(st)\n",
    "print(cn)\n",
    "print(tl)"
   ]
  },
  {
   "cell_type": "markdown",
   "id": "17334b52",
   "metadata": {},
   "source": [
    "### Create 5 real time lists to store some useful information in python eg. Language = [ ‘java’, ‘c’, ‘c++’, ‘ruby’ ]\n",
    "    names = ['Alice', 'Bob', 'Charlie', 'David']\n",
    "    numbers = [1, 2, 3, 4, 5]\n",
    "    boolean_values = [True, False, True, True, False]\n",
    "    tuples = [('Alice', 25), ('Bob', 30), ('Charlie', 35), ('David', 40)]\n",
    "    dates = ['2022-06-10', '2022-06-11', '2022-06-12', '2022-06-13']"
   ]
  },
  {
   "cell_type": "markdown",
   "id": "673ce7e2",
   "metadata": {},
   "source": [
    "### What is difference between mutable and immutable data types in python?\n",
    "    In Python, data types can be classified as either mutable or immutable. Mutable objects are those whose value can be changed after they are created, while immutable objects are those whose value cannot be changed after they are created"
   ]
  },
  {
   "cell_type": "code",
   "execution_count": null,
   "id": "3c9debee",
   "metadata": {},
   "outputs": [],
   "source": []
  }
 ],
 "metadata": {
  "kernelspec": {
   "display_name": "Python 3 (ipykernel)",
   "language": "python",
   "name": "python3"
  },
  "language_info": {
   "codemirror_mode": {
    "name": "ipython",
    "version": 3
   },
   "file_extension": ".py",
   "mimetype": "text/x-python",
   "name": "python",
   "nbconvert_exporter": "python",
   "pygments_lexer": "ipython3",
   "version": "3.10.9"
  }
 },
 "nbformat": 4,
 "nbformat_minor": 5
}
