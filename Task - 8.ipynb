{
 "cells": [
  {
   "cell_type": "markdown",
   "id": "611538e0",
   "metadata": {},
   "source": [
    "### Q1\n",
    "    Two value of boolean data type is: `true` or `false` \n",
    "    print(10 > 9) \n",
    "    print(10 == 9)\n",
    "    \n",
    "### Q2\n",
    "    1.AND \n",
    "    2.OR \n",
    "    3.NOT\n",
    "    \n",
    "### Q4\n",
    "    false \n",
    "    false \n",
    "    true \n",
    "    false \n",
    "    false \n",
    "    true\n",
    "    \n",
    "### Q5\n",
    "    1.> \n",
    "    2.< \n",
    "    3.= \n",
    "    4.>= \n",
    "    5.<= \n",
    "    6.== \n",
    "    7.!=\n",
    "    \n",
    "### Q6\n",
    "    Assignment operator is used to assign a value and equal to used to compare the value\n",
    "    \n",
    "### Q7\n",
    "    allow you to make decisions based on the values of variables or the result of comparisons"
   ]
  }
 ],
 "metadata": {
  "kernelspec": {
   "display_name": "Python 3 (ipykernel)",
   "language": "python",
   "name": "python3"
  },
  "language_info": {
   "codemirror_mode": {
    "name": "ipython",
    "version": 3
   },
   "file_extension": ".py",
   "mimetype": "text/x-python",
   "name": "python",
   "nbconvert_exporter": "python",
   "pygments_lexer": "ipython3",
   "version": "3.10.9"
  }
 },
 "nbformat": 4,
 "nbformat_minor": 5
}
