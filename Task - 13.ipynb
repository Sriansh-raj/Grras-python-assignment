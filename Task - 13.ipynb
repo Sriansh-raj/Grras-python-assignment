{
 "cells": [
  {
   "cell_type": "code",
   "execution_count": 12,
   "id": "d8797a84",
   "metadata": {},
   "outputs": [
    {
     "name": "stdout",
     "output_type": "stream",
     "text": [
      "Number of vowels:  5\n"
     ]
    }
   ],
   "source": [
    "string = \"This is the the string\"\n",
    "count = 0\n",
    "for i in string:\n",
    "    if(i=='a' or i=='e' or i=='i' or i=='o' or i=='u' or i=='A' or i=='E' or i=='I' or i=='O' or i=='U'):\n",
    "        count+=1\n",
    "print(\"Number of vowels: \",count)"
   ]
  },
  {
   "cell_type": "code",
   "execution_count": 14,
   "id": "f723f2f6",
   "metadata": {},
   "outputs": [
    {
     "name": "stdout",
     "output_type": "stream",
     "text": [
      "The no of word in a string is: 4\n",
      "The no of character in a string is: 15\n",
      "The no of space in a string is: 3\n"
     ]
    }
   ],
   "source": [
    "s=\"This is the string\"\n",
    "str=s.split(\" \")\n",
    "count=0\n",
    "print(f\"The no of word in a string is: {len(str)}\")\n",
    "for i in range(0,len(s),1):\n",
    "    ch=s[i]\n",
    "    if ch!=\" \":\n",
    "        count=count+1\n",
    "print(f\"The no of character in a string is: {count}\")    \n",
    "print(f\"The no of space in a string is: {len(s)-count}\")"
   ]
  },
  {
   "cell_type": "code",
   "execution_count": 18,
   "id": "62ebcc50",
   "metadata": {},
   "outputs": [
    {
     "name": "stdout",
     "output_type": "stream",
     "text": [
      "!!This is, the string.\n",
      "This is the string\n"
     ]
    }
   ],
   "source": [
    "s=\"!!This is, the string.\"\n",
    "print(s)\n",
    "for char in ('!', '.', ','):\n",
    "    s = s.replace(char, '')\n",
    "print(s)"
   ]
  },
  {
   "cell_type": "code",
   "execution_count": null,
   "id": "3ca13e05",
   "metadata": {},
   "outputs": [],
   "source": []
  }
 ],
 "metadata": {
  "kernelspec": {
   "display_name": "Python 3 (ipykernel)",
   "language": "python",
   "name": "python3"
  },
  "language_info": {
   "codemirror_mode": {
    "name": "ipython",
    "version": 3
   },
   "file_extension": ".py",
   "mimetype": "text/x-python",
   "name": "python",
   "nbconvert_exporter": "python",
   "pygments_lexer": "ipython3",
   "version": "3.10.9"
  }
 },
 "nbformat": 4,
 "nbformat_minor": 5
}
